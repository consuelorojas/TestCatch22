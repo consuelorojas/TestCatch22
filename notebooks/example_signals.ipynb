{
 "cells": [
  {
   "cell_type": "code",
   "execution_count": null,
   "id": "068f5e8f",
   "metadata": {},
   "outputs": [
    {
     "ename": "ModuleNotFoundError",
     "evalue": "No module named 'dispatcher'",
     "output_type": "error",
     "traceback": [
      "\u001b[31m---------------------------------------------------------------------------\u001b[39m",
      "\u001b[31mModuleNotFoundError\u001b[39m                       Traceback (most recent call last)",
      "\u001b[36mCell\u001b[39m\u001b[36m \u001b[39m\u001b[32mIn[5]\u001b[39m\u001b[32m, line 13\u001b[39m\n\u001b[32m     10\u001b[39m sys.path.append(os.path.abspath(\u001b[33m\"\u001b[39m\u001b[33m./data\u001b[39m\u001b[33m\"\u001b[39m))\n\u001b[32m     12\u001b[39m \u001b[38;5;66;03m#from classification import run_experiment\u001b[39;00m\n\u001b[32m---> \u001b[39m\u001b[32m13\u001b[39m \u001b[38;5;28;01mfrom\u001b[39;00m\u001b[38;5;250m \u001b[39m\u001b[34;01mdataset\u001b[39;00m\u001b[38;5;250m \u001b[39m\u001b[38;5;28;01mimport\u001b[39;00m create_labeled_dataset, get_kfold_splits\n",
      "\u001b[36mFile \u001b[39m\u001b[32m~/Documentos/GitHub/TestCatch22/data/dataset.py:7\u001b[39m\n\u001b[32m      5\u001b[39m \u001b[38;5;66;03m#sys.path.append(os.path.abspath(\"./preprocessing\"))\u001b[39;00m\n\u001b[32m      6\u001b[39m \u001b[38;5;28;01mfrom\u001b[39;00m\u001b[38;5;250m \u001b[39m\u001b[34;01msklearn\u001b[39;00m\u001b[34;01m.\u001b[39;00m\u001b[34;01mmodel_selection\u001b[39;00m\u001b[38;5;250m \u001b[39m\u001b[38;5;28;01mimport\u001b[39;00m StratifiedKFold\n\u001b[32m----> \u001b[39m\u001b[32m7\u001b[39m \u001b[38;5;28;01mfrom\u001b[39;00m\u001b[38;5;250m \u001b[39m\u001b[34;01mdispatcher\u001b[39;00m\u001b[38;5;250m \u001b[39m\u001b[38;5;28;01mimport\u001b[39;00m generate_signal\n\u001b[32m      8\u001b[39m \u001b[38;5;66;03m#from preprocessing import subsample_signals\u001b[39;00m\n\u001b[32m     10\u001b[39m \u001b[38;5;28;01mdef\u001b[39;00m\u001b[38;5;250m \u001b[39m\u001b[34mcreate_labeled_dataset\u001b[39m(class_configs, n_samples_per_class, subsample_step = \u001b[38;5;28;01mNone\u001b[39;00m, transient = \u001b[32m0\u001b[39m, return_time = \u001b[38;5;28;01mFalse\u001b[39;00m):\n",
      "\u001b[31mModuleNotFoundError\u001b[39m: No module named 'dispatcher'"
     ]
    }
   ],
   "source": []
  },
  {
   "cell_type": "code",
   "execution_count": null,
   "id": "3c32c5a0",
   "metadata": {},
   "outputs": [],
   "source": [
    "## sweep configuration\n",
    "b0 = 0.1\n",
    "\n",
    "b1 = 1\n",
    "db1 = 0.0889\n",
    "b12 = b1 + db1\n",
    "\n",
    "epsilon = 0.2\n",
    "I = 0\n",
    "noise = 0\n",
    "dt = 0.1\n",
    "\n",
    "# step to subsampling\n",
    "pseudo_period = 30\n",
    "npp = 10          # change the number of points per period here!\n",
    "step = int(pseudo_period / npp / dt)\n",
    "\n",
    "\n",
    "epsilon = 0.2\n",
    "I = 0\n",
    "noise = 0.1\n",
    "\n",
    "trans = 50 # transient\n",
    "\n",
    "samples = 100\n",
    "\n",
    "\n",
    "X, y = create_labeled_dataset([\n",
    "        (0, 'fhn', {'length':750, 'dt': 0.1, 'x0': [0,0], 'args':[b0, b1, epsilon, I, noise]}),\n",
    "        (1, 'fhn', {'length':750, 'dt': 0.1, 'x0': [0,0], 'args':[b0, b12, epsilon, I, noise]})],\n",
    "        n_samples_per_class=samples, subsample_step = step, transient = trans\n",
    "        )"
   ]
  },
  {
   "cell_type": "code",
   "execution_count": null,
   "id": "fe5c1136",
   "metadata": {},
   "outputs": [],
   "source": []
  }
 ],
 "metadata": {
  "kernelspec": {
   "display_name": ".venv",
   "language": "python",
   "name": "python3"
  },
  "language_info": {
   "codemirror_mode": {
    "name": "ipython",
    "version": 3
   },
   "file_extension": ".py",
   "mimetype": "text/x-python",
   "name": "python",
   "nbconvert_exporter": "python",
   "pygments_lexer": "ipython3",
   "version": "3.12.3"
  }
 },
 "nbformat": 4,
 "nbformat_minor": 5
}
